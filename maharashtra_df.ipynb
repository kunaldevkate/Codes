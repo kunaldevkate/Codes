{
 "cells": [
  {
   "cell_type": "markdown",
   "metadata": {},
   "source": [
    "## Importing Required Libraries"
   ]
  },
  {
   "cell_type": "code",
   "execution_count": 1,
   "metadata": {},
   "outputs": [],
   "source": [
    "import geopandas as gpd\n",
    "import pandas as pd\n",
    "import numpy as np\n",
    "import os\n",
    "import descartes\n",
    "import matplotlib.pyplot as plt\n",
    "from shapely.geometry import Point\n",
    "from shapely.geometry import Polygon"
   ]
  },
  {
   "cell_type": "markdown",
   "metadata": {},
   "source": [
    "## Work directory"
   ]
  },
  {
   "cell_type": "code",
   "execution_count": 2,
   "metadata": {},
   "outputs": [],
   "source": [
    "work_dir = \"../Data/\""
   ]
  },
  {
   "cell_type": "markdown",
   "metadata": {},
   "source": [
    "## Reading file"
   ]
  },
  {
   "cell_type": "code",
   "execution_count": 3,
   "metadata": {},
   "outputs": [],
   "source": [
    "df = gpd.read_file(work_dir + \"updated_input_file.shp\")"
   ]
  },
  {
   "cell_type": "markdown",
   "metadata": {},
   "source": [
    "## Checking top 5 values "
   ]
  },
  {
   "cell_type": "code",
   "execution_count": 4,
   "metadata": {},
   "outputs": [
    {
     "data": {
      "text/html": [
       "<div>\n",
       "<style scoped>\n",
       "    .dataframe tbody tr th:only-of-type {\n",
       "        vertical-align: middle;\n",
       "    }\n",
       "\n",
       "    .dataframe tbody tr th {\n",
       "        vertical-align: top;\n",
       "    }\n",
       "\n",
       "    .dataframe thead th {\n",
       "        text-align: right;\n",
       "    }\n",
       "</style>\n",
       "<table border=\"1\" class=\"dataframe\">\n",
       "  <thead>\n",
       "    <tr style=\"text-align: right;\">\n",
       "      <th></th>\n",
       "      <th>DST_ID</th>\n",
       "      <th>DISTRICT</th>\n",
       "      <th>STATE</th>\n",
       "      <th>POPULATION</th>\n",
       "      <th>EDUCATION%</th>\n",
       "      <th>geometry</th>\n",
       "    </tr>\n",
       "  </thead>\n",
       "  <tbody>\n",
       "    <tr>\n",
       "      <th>0</th>\n",
       "      <td>1</td>\n",
       "      <td>Gilgit</td>\n",
       "      <td>JAMMU AND KASHMIR</td>\n",
       "      <td>43004</td>\n",
       "      <td>1</td>\n",
       "      <td>POLYGON ((74.30254 35.65012, 73.84581 35.82461...</td>\n",
       "    </tr>\n",
       "    <tr>\n",
       "      <th>1</th>\n",
       "      <td>2</td>\n",
       "      <td>Kargil</td>\n",
       "      <td>JAMMU AND KASHMIR</td>\n",
       "      <td>26649</td>\n",
       "      <td>92</td>\n",
       "      <td>POLYGON ((74.89890 35.62939, 75.04768 35.77413...</td>\n",
       "    </tr>\n",
       "    <tr>\n",
       "      <th>2</th>\n",
       "      <td>3</td>\n",
       "      <td>Ladakh</td>\n",
       "      <td>JAMMU AND KASHMIR</td>\n",
       "      <td>50114</td>\n",
       "      <td>48</td>\n",
       "      <td>POLYGON ((75.98059 35.93823, 76.16165 35.91142...</td>\n",
       "    </tr>\n",
       "    <tr>\n",
       "      <th>3</th>\n",
       "      <td>4</td>\n",
       "      <td>Chilas</td>\n",
       "      <td>JAMMU AND KASHMIR</td>\n",
       "      <td>53004</td>\n",
       "      <td>45</td>\n",
       "      <td>POLYGON ((73.27244 35.81596, 73.32610 35.79237...</td>\n",
       "    </tr>\n",
       "    <tr>\n",
       "      <th>4</th>\n",
       "      <td>5</td>\n",
       "      <td>Kupwara</td>\n",
       "      <td>JAMMU AND KASHMIR</td>\n",
       "      <td>35111</td>\n",
       "      <td>70</td>\n",
       "      <td>POLYGON ((74.30254 35.65012, 74.54015 35.50695...</td>\n",
       "    </tr>\n",
       "  </tbody>\n",
       "</table>\n",
       "</div>"
      ],
      "text/plain": [
       "   DST_ID DISTRICT              STATE  POPULATION  EDUCATION%  \\\n",
       "0       1   Gilgit  JAMMU AND KASHMIR       43004           1   \n",
       "1       2   Kargil  JAMMU AND KASHMIR       26649          92   \n",
       "2       3   Ladakh  JAMMU AND KASHMIR       50114          48   \n",
       "3       4   Chilas  JAMMU AND KASHMIR       53004          45   \n",
       "4       5  Kupwara  JAMMU AND KASHMIR       35111          70   \n",
       "\n",
       "                                            geometry  \n",
       "0  POLYGON ((74.30254 35.65012, 73.84581 35.82461...  \n",
       "1  POLYGON ((74.89890 35.62939, 75.04768 35.77413...  \n",
       "2  POLYGON ((75.98059 35.93823, 76.16165 35.91142...  \n",
       "3  POLYGON ((73.27244 35.81596, 73.32610 35.79237...  \n",
       "4  POLYGON ((74.30254 35.65012, 74.54015 35.50695...  "
      ]
     },
     "execution_count": 4,
     "metadata": {},
     "output_type": "execute_result"
    }
   ],
   "source": [
    "df.head()"
   ]
  },
  {
   "cell_type": "markdown",
   "metadata": {},
   "source": [
    "## Checking all columns"
   ]
  },
  {
   "cell_type": "code",
   "execution_count": 5,
   "metadata": {},
   "outputs": [
    {
     "data": {
      "text/plain": [
       "Index(['DST_ID', 'DISTRICT', 'STATE', 'POPULATION', 'EDUCATION%', 'geometry'], dtype='object')"
      ]
     },
     "execution_count": 5,
     "metadata": {},
     "output_type": "execute_result"
    }
   ],
   "source": [
    "df.columns"
   ]
  },
  {
   "cell_type": "markdown",
   "metadata": {},
   "source": [
    "## Checking all values of 'STATE' column"
   ]
  },
  {
   "cell_type": "code",
   "execution_count": 6,
   "metadata": {},
   "outputs": [
    {
     "data": {
      "text/plain": [
       "array(['JAMMU AND KASHMIR', 'HIMACHAL PRADESH', 'PUNJAB', 'UTTAR PRADESH',\n",
       "       'HARYANA', 'CHANDIGARH', 'RAJASTHAN', 'ARUNACHAL PRADESH', 'DELHI',\n",
       "       'ASSAM', 'SIKKIM', 'BIHAR', 'WEST BENGAL', 'NAGALAND',\n",
       "       'MADHYA PRADESH', 'MEGHALAYA', 'MANIPUR', 'GUJARAT', 'TRIPURA',\n",
       "       'MIZORAM', 'ORISSA', 'MAHARASHTRA', 'DAMAN AND DIU',\n",
       "       'DADRA AND NAGAR HAVELI', 'ANDHRA PRADESH', 'KARNATAKA',\n",
       "       'PONDICHERRY', 'GOA', 'ANDAMAN AND NICOBAR ISLANDS', 'TAMIL NADU',\n",
       "       'KERALA', 'LAKSHADWEEP'], dtype=object)"
      ]
     },
     "execution_count": 6,
     "metadata": {},
     "output_type": "execute_result"
    }
   ],
   "source": [
    "df['STATE'].unique()"
   ]
  },
  {
   "cell_type": "markdown",
   "metadata": {},
   "source": [
    "## Filtering only 'MAHARASHTRA' value from 'STATE' column"
   ]
  },
  {
   "cell_type": "code",
   "execution_count": 7,
   "metadata": {},
   "outputs": [],
   "source": [
    "maha_df = df[df['STATE'] == 'MAHARASHTRA']"
   ]
  },
  {
   "cell_type": "markdown",
   "metadata": {},
   "source": [
    "## Exporting the GeoDataFrame to a shapefile"
   ]
  },
  {
   "cell_type": "code",
   "execution_count": 8,
   "metadata": {},
   "outputs": [],
   "source": [
    "maha_df.to_file(work_dir + \"MAHARASHTRA_file.shp\", driver='ESRI Shapefile')"
   ]
  },
  {
   "cell_type": "markdown",
   "metadata": {},
   "source": [
    "##  Exporting Shapefile as geoJSON file "
   ]
  },
  {
   "cell_type": "code",
   "execution_count": 9,
   "metadata": {},
   "outputs": [],
   "source": [
    "maha_df.to_file('../Data/MAHARASHTRA_file.geojson', driver='GeoJSON')"
   ]
  },
  {
   "cell_type": "markdown",
   "metadata": {},
   "source": [
    "## Visualizing 'MAHARASHTRA' map"
   ]
  },
  {
   "cell_type": "code",
   "execution_count": 10,
   "metadata": {},
   "outputs": [
    {
     "data": {
      "text/plain": [
       "<matplotlib.axes._subplots.AxesSubplot at 0x1d23aeda148>"
      ]
     },
     "execution_count": 10,
     "metadata": {},
     "output_type": "execute_result"
    },
    {
     "data": {
      "image/png": "[encoded data removed]",
      "text/plain": [
       "<Figure size 720x720 with 1 Axes>"
      ]
     },
     "metadata": {
      "needs_background": "light"
     },
     "output_type": "display_data"
    }
   ],
   "source": [
    "maha_df.plot(column = 'DISTRICT',cmap = \"bwr\",facecolor = '#00000050',edgecolor = 'black', figsize = (10,10))"
   ]
  },
  {
   "cell_type": "markdown",
   "metadata": {},
   "source": [
    "## Creating a DataFrame for my current location"
   ]
  },
  {
   "cell_type": "code",
   "execution_count": 11,
   "metadata": {},
   "outputs": [],
   "source": [
    "Latitude: 21.902008\n",
    "Longitude: 77.907822"
   ]
  },
  {
   "cell_type": "code",
   "execution_count": 12,
   "metadata": {},
   "outputs": [],
   "source": [
    "city_df = pd.DataFrame([{'DST_ID' : 999, 'DISTRICT' : 'house', 'STATE': 'MADHYA PRADESH', 'POPULATION': 3,\n",
    "                         'EDUCATION%' : 100,'Latitude': 21.902008, 'Longitude':  77.907822}])"
   ]
  },
  {
   "cell_type": "markdown",
   "metadata": {},
   "source": [
    "## Creating a Point geometry column from the Latitude and Longitude columns"
   ]
  },
  {
   "cell_type": "code",
   "execution_count": 13,
   "metadata": {},
   "outputs": [],
   "source": [
    "geometry = [Point(xy) for xy in zip(city_df.Longitude, city_df.Latitude)]"
   ]
  },
  {
   "cell_type": "markdown",
   "metadata": {},
   "source": [
    "## Converting Pandas DataFrame to a GeoPandas DataFrame"
   ]
  },
  {
   "cell_type": "code",
   "execution_count": 14,
   "metadata": {},
   "outputs": [],
   "source": [
    "gdf = gpd.GeoDataFrame(city_df, geometry=geometry)"
   ]
  },
  {
   "cell_type": "code",
   "execution_count": 15,
   "metadata": {},
   "outputs": [
    {
     "data": {
      "text/html": [
       "<div>\n",
       "<style scoped>\n",
       "    .dataframe tbody tr th:only-of-type {\n",
       "        vertical-align: middle;\n",
       "    }\n",
       "\n",
       "    .dataframe tbody tr th {\n",
       "        vertical-align: top;\n",
       "    }\n",
       "\n",
       "    .dataframe thead th {\n",
       "        text-align: right;\n",
       "    }\n",
       "</style>\n",
       "<table border=\"1\" class=\"dataframe\">\n",
       "  <thead>\n",
       "    <tr style=\"text-align: right;\">\n",
       "      <th></th>\n",
       "      <th>DST_ID</th>\n",
       "      <th>DISTRICT</th>\n",
       "      <th>STATE</th>\n",
       "      <th>POPULATION</th>\n",
       "      <th>EDUCATION%</th>\n",
       "      <th>Latitude</th>\n",
       "      <th>Longitude</th>\n",
       "      <th>geometry</th>\n",
       "    </tr>\n",
       "  </thead>\n",
       "  <tbody>\n",
       "    <tr>\n",
       "      <th>0</th>\n",
       "      <td>999</td>\n",
       "      <td>house</td>\n",
       "      <td>MADHYA PRADESH</td>\n",
       "      <td>3</td>\n",
       "      <td>100</td>\n",
       "      <td>21.902008</td>\n",
       "      <td>77.907822</td>\n",
       "      <td>POINT (77.90782 21.90201)</td>\n",
       "    </tr>\n",
       "  </tbody>\n",
       "</table>\n",
       "</div>"
      ],
      "text/plain": [
       "   DST_ID DISTRICT           STATE  POPULATION  EDUCATION%   Latitude  \\\n",
       "0     999    house  MADHYA PRADESH           3         100  21.902008   \n",
       "\n",
       "   Longitude                   geometry  \n",
       "0  77.907822  POINT (77.90782 21.90201)  "
      ]
     },
     "execution_count": 15,
     "metadata": {},
     "output_type": "execute_result"
    }
   ],
   "source": [
    "gdf"
   ]
  },
  {
   "cell_type": "markdown",
   "metadata": {},
   "source": [
    "## Dropping 'Latitude', 'Longitude' columns"
   ]
  },
  {
   "cell_type": "code",
   "execution_count": 16,
   "metadata": {},
   "outputs": [],
   "source": [
    "gdf = gdf.drop(['Latitude', 'Longitude'],axis=1)"
   ]
  },
  {
   "cell_type": "markdown",
   "metadata": {},
   "source": [
    "## Appending both DataFrames"
   ]
  },
  {
   "cell_type": "code",
   "execution_count": 17,
   "metadata": {},
   "outputs": [],
   "source": [
    "df = df.append(gdf)"
   ]
  },
  {
   "cell_type": "code",
   "execution_count": null,
   "metadata": {},
   "outputs": [],
   "source": []
  }
 ],
 "metadata": {
  "kernelspec": {
   "display_name": "Python 3",
   "language": "python",
   "name": "python3"
  },
  "language_info": {
   "codemirror_mode": {
    "name": "ipython",
    "version": 3
   },
   "file_extension": ".py",
   "mimetype": "text/x-python",
   "name": "python",
   "nbconvert_exporter": "python",
   "pygments_lexer": "ipython3",
   "version": "3.7.4"
  }
 },
 "nbformat": 4,
 "nbformat_minor": 2
}
