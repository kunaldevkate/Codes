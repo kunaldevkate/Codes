{
 "cells": [
  {
   "cell_type": "markdown",
   "metadata": {},
   "source": [
    "## Importing required libraries"
   ]
  },
  {
   "cell_type": "code",
   "execution_count": null,
   "metadata": {},
   "outputs": [],
   "source": [
    "import pandas as pd\n",
    "import numpy as np\n",
    "import os\n",
    "import matplotlib.pyplot as plt\n",
    "import descartes\n",
    "import matplotlib.pyplot as plt\n",
    "import dataframe_image as dfi\n",
    "import folium\n",
    "from IPython.display import Image\n",
    "from PIL import Image\n",
    "%matplotlib inline\n",
    "import cartopy.crs as ccrs"
   ]
  },
  {
   "cell_type": "code",
   "execution_count": null,
   "metadata": {},
   "outputs": [],
   "source": [
    "import geopandas as gpd"
   ]
  },
  {
   "cell_type": "markdown",
   "metadata": {},
   "source": [
    "## Reading Dataset"
   ]
  },
  {
   "cell_type": "code",
   "execution_count": null,
   "metadata": {},
   "outputs": [],
   "source": [
    "usa_df = gpd.read_file('../Data/usa_data/map.shp')"
   ]
  },
  {
   "cell_type": "markdown",
   "metadata": {},
   "source": [
    "## Checking top 5 values"
   ]
  },
  {
   "cell_type": "code",
   "execution_count": null,
   "metadata": {},
   "outputs": [],
   "source": [
    "usa_df.head()"
   ]
  },
  {
   "cell_type": "markdown",
   "metadata": {},
   "source": [
    "## Plotting Graph"
   ]
  },
  {
   "cell_type": "code",
   "execution_count": null,
   "metadata": {},
   "outputs": [],
   "source": [
    "usa_df.plot(figsize = (20,20))"
   ]
  },
  {
   "cell_type": "markdown",
   "metadata": {},
   "source": [
    "## Changing the co-ordinates of X & Y axis to plot graph"
   ]
  },
  {
   "cell_type": "code",
   "execution_count": null,
   "metadata": {},
   "outputs": [],
   "source": [
    "# Colours which can be used in cmap\n",
    "#cmap = 'bwr' | 'GnBu' | 'jet'\n",
    "\n",
    "ax = usa_df.plot(figsize = (15,15), column = 'NAME', cmap = 'bwr') #facecolor = '#00000050', edgecolor = 'blue')\n",
    "ax.set_xlim(-130,-50)\n",
    "ax.set_ylim(20,50)\n",
    "#ax.plot(ax=ax, markersize = 15)"
   ]
  },
  {
   "cell_type": "markdown",
   "metadata": {},
   "source": [
    "## Checking CRS"
   ]
  },
  {
   "cell_type": "code",
   "execution_count": null,
   "metadata": {},
   "outputs": [],
   "source": [
    "usa_df.crs"
   ]
  },
  {
   "cell_type": "markdown",
   "metadata": {},
   "source": [
    "## Using .to_crs() function"
   ]
  },
  {
   "cell_type": "code",
   "execution_count": null,
   "metadata": {},
   "outputs": [],
   "source": [
    "usa_EPSG_4326_df = usa_df.to_crs('EPSG:4326')"
   ]
  },
  {
   "cell_type": "code",
   "execution_count": null,
   "metadata": {},
   "outputs": [],
   "source": [
    "bx = usa_EPSG_4326_df.plot(figsize = (15,15), column = 'NAME', cmap = 'jet')\n",
    "bx.set_xlim(-130,-50)\n",
    "bx.set_ylim(20,50)"
   ]
  },
  {
   "cell_type": "markdown",
   "metadata": {},
   "source": [
    "## pyproj function"
   ]
  },
  {
   "cell_type": "markdown",
   "metadata": {},
   "source": [
    "### pyproj.CRS()"
   ]
  },
  {
   "cell_type": "markdown",
   "metadata": {},
   "source": [
    "### 'pyproj.CRS()'  is a method from the PyProj library that creates a Coordinate Reference System (CRS) object. The CRS() method takes a string argument representing the EPSG (European Petroleum Survey Group) code of the CRS. The EPSG code is a unique identifier for a CRS and can be used to identify and transform coordinates between different CRSs."
   ]
  },
  {
   "cell_type": "code",
   "execution_count": null,
   "metadata": {},
   "outputs": [],
   "source": [
    "import pyproj\n",
    "\n",
    "# create a CRS object for WGS 84\n",
    "crs_wgs84 = pyproj.CRS(\"EPSG:4326\")"
   ]
  },
  {
   "cell_type": "code",
   "execution_count": null,
   "metadata": {},
   "outputs": [],
   "source": [
    "crs_wgs84"
   ]
  },
  {
   "cell_type": "code",
   "execution_count": null,
   "metadata": {},
   "outputs": [],
   "source": [
    "# create a CRS object for UTM zone 10N\n",
    "crs_utm10n = pyproj.CRS(\"EPSG:32610\")"
   ]
  },
  {
   "cell_type": "code",
   "execution_count": null,
   "metadata": {},
   "outputs": [],
   "source": [
    "crs_utm10n"
   ]
  },
  {
   "cell_type": "markdown",
   "metadata": {},
   "source": [
    "## pyproj.transform()"
   ]
  },
  {
   "cell_type": "markdown",
   "metadata": {},
   "source": [
    "### pyproj.transform() is a method from the PyProj library that allows you to transform coordinates between different Coordinate Reference Systems (CRSs). The method takes four arguments: the source CRS, the destination CRS, the x-coordinate, and the y-coordinate."
   ]
  },
  {
   "cell_type": "code",
   "execution_count": null,
   "metadata": {},
   "outputs": [],
   "source": [
    "# create CRS objects for WGS 84 and UTM zone 10N\n",
    "crs_wgs84 = pyproj.CRS(\"EPSG:4326\")\n",
    "crs_utm10n = pyproj.CRS(\"EPSG:32610\")\n",
    "\n",
    "# define a point in WGS 84 coordinates (longitude, latitude)\n",
    "lon, lat = -118.409, 33.943\n",
    "\n",
    "# transform the point to UTM 10N coordinates (eastings, northings)\n",
    "easting, northing = pyproj.transform(crs_wgs84, crs_utm10n, lon, lat)"
   ]
  },
  {
   "cell_type": "markdown",
   "metadata": {},
   "source": [
    "## Basemap"
   ]
  },
  {
   "cell_type": "markdown",
   "metadata": {},
   "source": [
    "## Basemap is a library that allows you to create maps and work with CRSs."
   ]
  },
  {
   "cell_type": "markdown",
   "metadata": {},
   "source": [
    "###  'Basemap()'  is a method from the Basemap library, which is a deprecated library for creating static maps in Python. It allows you to create map projections and plot data on them using a variety of built-in map projections, including cylindrical, conic, and azimuthal projections"
   ]
  },
  {
   "cell_type": "code",
   "execution_count": null,
   "metadata": {},
   "outputs": [],
   "source": [
    "# To install basemap\n",
    "\n",
    "# !pip install basemap\n",
    "# !pip install basemap-data"
   ]
  },
  {
   "cell_type": "code",
   "execution_count": null,
   "metadata": {},
   "outputs": [],
   "source": [
    "from mpl_toolkits.basemap import Basemap\n",
    "import matplotlib.pyplot as plt\n",
    "\n",
    "# create a map projection centered on the Pacific Ocean\n",
    "m = Basemap(projection='merc', llcrnrlon=-180, llcrnrlat=-80, urcrnrlon=180, urcrnrlat=80)\n",
    "\n",
    "# draw coastlines, countries, and states\n",
    "m.drawcoastlines()\n",
    "m.drawcountries()\n",
    "m.drawstates()\n",
    "\n",
    "# show the map\n",
    "plt.show()"
   ]
  },
  {
   "cell_type": "code",
   "execution_count": null,
   "metadata": {},
   "outputs": [],
   "source": [
    "# create a Plate Carrée CRS object\n",
    "crs_platecarree = ccrs.PlateCarree()\n",
    "\n",
    "# create a UTM zone 10N CRS object\n",
    "crs_utm10n = ccrs.UTM(zone=10, southern_hemisphere=False)"
   ]
  },
  {
   "cell_type": "markdown",
   "metadata": {},
   "source": [
    "# Cartopy"
   ]
  },
  {
   "cell_type": "code",
   "execution_count": null,
   "metadata": {},
   "outputs": [],
   "source": [
    "import cartopy.crs as ccrs\n",
    "import matplotlib.pyplot as plt\n",
    "\n",
    "fig = plt.figure(figsize=(10, 5))\n",
    "ax = fig.add_subplot(1, 1, 1, projection=ccrs.PlateCarree())\n",
    "ax.coastlines()\n",
    "plt.show()"
   ]
  },
  {
   "cell_type": "markdown",
   "metadata": {},
   "source": [
    "### cartopy.crs() is a method from the Cartopy library that allows you to create a Coordinate Reference System (CRS) object for use in geospatial data processing and mapping. The method takes a string argument representing the CRS name, such as \"PlateCarree\" or \"Robinson\", or an EPSG code representing the CRS."
   ]
  },
  {
   "cell_type": "code",
   "execution_count": null,
   "metadata": {},
   "outputs": [],
   "source": [
    "import cartopy.crs as ccrs\n",
    "\n",
    "# create a Plate Carrée CRS object\n",
    "crs_platecarree = ccrs.PlateCarree()\n",
    "\n",
    "# create a UTM zone 10N CRS object\n",
    "crs_utm10n = ccrs.UTM(zone=10, southern_hemisphere=False)"
   ]
  },
  {
   "cell_type": "code",
   "execution_count": null,
   "metadata": {},
   "outputs": [],
   "source": [
    "import cartopy.mpl.geoaxes as geoaxes\n",
    "\n",
    "# create a map projection using Plate Carrée\n",
    "ax = geoaxes.GeoAxes(projection=crs_platecarree)\n",
    "\n",
    "# transform a point from Plate Carrée to UTM zone 10N\n",
    "point_in_platecarree = (lon, lat)\n",
    "point_in_utm10n = crs_utm10n.transform_point(lon, lat, crs_platecarree)"
   ]
  },
  {
   "cell_type": "code",
   "execution_count": null,
   "metadata": {},
   "outputs": [],
   "source": [
    "import matplotlib.pyplot as plt\n",
    "import cartopy.crs as ccrs\n",
    "import pyproj\n",
    "\n",
    "# create a CRS object for the source CRS\n",
    "src_crs = pyproj.CRS('EPSG:4326') # WGS84\n",
    "\n",
    "# create a CRS object for the destination CRS\n",
    "dst_crs = ccrs.Mercator()\n",
    "\n",
    "# create a pyproj Transformer object to transform from src_crs to dst_crs\n",
    "transformer = pyproj.Transformer.from_crs(src_crs, dst_crs)\n",
    "\n",
    "# transform a point from src_crs to dst_crs using transform_point()\n",
    "lon, lat = -122.4194, 37.7749 # San Francisco\n",
    "x, y = transformer.transform(lon, lat)\n",
    "\n",
    "# create a new figure and axes in the destination CRS\n",
    "fig, ax = plt.subplots(subplot_kw={'projection': dst_crs})\n",
    "\n",
    "# plot some geospatial data in the destination CRS\n",
    "ax.stock_img()\n",
    "ax.coastlines()\n",
    "\n",
    "# set the extent of the axes to the desired region in the destination CRS\n",
    "ax.set_extent([-122.5, -121.5, 37, 38], crs=dst_crs)\n",
    "\n",
    "# plot the transformed point on the map\n",
    "ax.plot(x, y, 'ro')\n",
    "\n",
    "# show the map\n",
    "plt.show()"
   ]
  }
 ],
 "metadata": {
  "kernelspec": {
   "display_name": "Python 3",
   "language": "python",
   "name": "python3"
  },
  "language_info": {
   "codemirror_mode": {
    "name": "ipython",
    "version": 3
   },
   "file_extension": ".py",
   "mimetype": "text/x-python",
   "name": "python",
   "nbconvert_exporter": "python",
   "pygments_lexer": "ipython3",
   "version": "3.7.4"
  }
 },
 "nbformat": 4,
 "nbformat_minor": 2
}
