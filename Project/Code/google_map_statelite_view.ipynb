{
 "cells": [
  {
   "cell_type": "code",
   "execution_count": 13,
   "id": "c35446fa",
   "metadata": {},
   "outputs": [],
   "source": [
    "import webbrowser"
   ]
  },
  {
   "cell_type": "code",
   "execution_count": 14,
   "id": "c4fb4d6f",
   "metadata": {},
   "outputs": [],
   "source": [
    "# specify the latitude and longitude of the location you want to view\n",
    "\n",
    "latitude = 21.1209\n",
    "longitude = 79.0481"
   ]
  },
  {
   "cell_type": "code",
   "execution_count": 15,
   "id": "23206afa",
   "metadata": {},
   "outputs": [
    {
     "data": {
      "text/plain": [
       "True"
      ]
     },
     "execution_count": 15,
     "metadata": {},
     "output_type": "execute_result"
    }
   ],
   "source": [
    "# specify the zoom level for the map (1-20)\n",
    "zoom = 20\n",
    "\n",
    "# create the URL for the Google Maps satellite view\n",
    "map_url = f\"https://www.google.com/maps/@{latitude},{longitude},{zoom}z/data=!3m1!1e3!4m2!2m1!5i1\"\n",
    "\n",
    "# open the web browser and navigate to the map URL\n",
    "webbrowser.open_new_tab(map_url)"
   ]
  },
  {
   "cell_type": "code",
   "execution_count": null,
   "id": "cb584fa7",
   "metadata": {},
   "outputs": [],
   "source": []
  }
 ],
 "metadata": {
  "kernelspec": {
   "display_name": "Python 3 (ipykernel)",
   "language": "python",
   "name": "python3"
  },
  "language_info": {
   "codemirror_mode": {
    "name": "ipython",
    "version": 3
   },
   "file_extension": ".py",
   "mimetype": "text/x-python",
   "name": "python",
   "nbconvert_exporter": "python",
   "pygments_lexer": "ipython3",
   "version": "3.10.10"
  }
 },
 "nbformat": 4,
 "nbformat_minor": 5
}
